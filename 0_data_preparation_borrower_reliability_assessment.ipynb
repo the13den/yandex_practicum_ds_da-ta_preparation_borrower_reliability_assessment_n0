{
 "cells": [
  {
   "cell_type": "markdown",
   "id": "05bb0ade",
   "metadata": {
    "deletable": false,
    "editable": false,
    "id": "c81daeeb"
   },
   "source": [
    "# Исследование надежности заемщиков"
   ]
  },
  {
   "cell_type": "markdown",
   "id": "8104ea2f",
   "metadata": {
    "deletable": false,
    "editable": false,
    "id": "827c20bf"
   },
   "source": [
    "Во второй части проекта вы выполните шаги 3 и 4. Их вручную проверит ревьюер.\n",
    "Чтобы вам не пришлось писать код заново для шагов 1 и 2, мы добавили авторские решения в ячейки с кодом.\n"
   ]
  },
  {
   "cell_type": "markdown",
   "id": "c5e47691",
   "metadata": {
    "deletable": false,
    "editable": false,
    "id": "744d7639"
   },
   "source": [
    "## Откройте таблицу и изучите общую информацию о данных\n"
   ]
  },
  {
   "cell_type": "markdown",
   "id": "e9171b41",
   "metadata": {
    "deletable": false,
    "editable": false,
    "id": "e7a14c31"
   },
   "source": [
    "**Задание 1. Импортируйте библиотеку pandas. Считайте данные из csv-файла в датафрейм и сохраните в переменную `data`. Путь к файлу:**\n",
    "\n",
    "`/datasets/data.csv`\n"
   ]
  },
  {
   "cell_type": "code",
   "execution_count": 2,
   "id": "b73bb53f",
   "metadata": {
    "deletable": false,
    "id": "7bcf75c9",
    "is_executing": true
   },
   "outputs": [],
   "source": [
    "import pandas as pd\n",
    "\n",
    "try:\n",
    "    data = pd.read_csv(\"/datasets/data.csv\")\n",
    "except:\n",
    "    data = pd.read_csv(\"https://code.s3.yandex.net/datasets/data.csv\")"
   ]
  },
  {
   "cell_type": "markdown",
   "id": "509ab6c7",
   "metadata": {
    "deletable": false,
    "editable": false,
    "id": "b8038fe3"
   },
   "source": [
    "**Задание 2. Выведите первые 20 строчек датафрейма `data` на экран.**\n"
   ]
  },
  {
   "cell_type": "code",
   "execution_count": 4,
   "id": "94ac3a7e",
   "metadata": {
    "deletable": false,
    "id": "2a7cab99",
    "is_executing": true,
    "outputId": "1a8f3ef2-d323-4ec2-ddf7-89670b5944c4"
   },
   "outputs": [
    {
     "data": {
      "text/html": [
       "<div>\n",
       "<style scoped>\n",
       "    .dataframe tbody tr th:only-of-type {\n",
       "        vertical-align: middle;\n",
       "    }\n",
       "\n",
       "    .dataframe tbody tr th {\n",
       "        vertical-align: top;\n",
       "    }\n",
       "\n",
       "    .dataframe thead th {\n",
       "        text-align: right;\n",
       "    }\n",
       "</style>\n",
       "<table border=\"1\" class=\"dataframe\">\n",
       "  <thead>\n",
       "    <tr style=\"text-align: right;\">\n",
       "      <th></th>\n",
       "      <th>children</th>\n",
       "      <th>days_employed</th>\n",
       "      <th>dob_years</th>\n",
       "      <th>education</th>\n",
       "      <th>education_id</th>\n",
       "      <th>family_status</th>\n",
       "      <th>family_status_id</th>\n",
       "      <th>gender</th>\n",
       "      <th>income_type</th>\n",
       "      <th>debt</th>\n",
       "      <th>total_income</th>\n",
       "      <th>purpose</th>\n",
       "    </tr>\n",
       "  </thead>\n",
       "  <tbody>\n",
       "    <tr>\n",
       "      <th>0</th>\n",
       "      <td>1</td>\n",
       "      <td>-8437.673028</td>\n",
       "      <td>42</td>\n",
       "      <td>высшее</td>\n",
       "      <td>0</td>\n",
       "      <td>женат / замужем</td>\n",
       "      <td>0</td>\n",
       "      <td>F</td>\n",
       "      <td>сотрудник</td>\n",
       "      <td>0</td>\n",
       "      <td>253875.639453</td>\n",
       "      <td>покупка жилья</td>\n",
       "    </tr>\n",
       "    <tr>\n",
       "      <th>1</th>\n",
       "      <td>1</td>\n",
       "      <td>-4024.803754</td>\n",
       "      <td>36</td>\n",
       "      <td>среднее</td>\n",
       "      <td>1</td>\n",
       "      <td>женат / замужем</td>\n",
       "      <td>0</td>\n",
       "      <td>F</td>\n",
       "      <td>сотрудник</td>\n",
       "      <td>0</td>\n",
       "      <td>112080.014102</td>\n",
       "      <td>приобретение автомобиля</td>\n",
       "    </tr>\n",
       "    <tr>\n",
       "      <th>2</th>\n",
       "      <td>0</td>\n",
       "      <td>-5623.422610</td>\n",
       "      <td>33</td>\n",
       "      <td>Среднее</td>\n",
       "      <td>1</td>\n",
       "      <td>женат / замужем</td>\n",
       "      <td>0</td>\n",
       "      <td>M</td>\n",
       "      <td>сотрудник</td>\n",
       "      <td>0</td>\n",
       "      <td>145885.952297</td>\n",
       "      <td>покупка жилья</td>\n",
       "    </tr>\n",
       "    <tr>\n",
       "      <th>3</th>\n",
       "      <td>3</td>\n",
       "      <td>-4124.747207</td>\n",
       "      <td>32</td>\n",
       "      <td>среднее</td>\n",
       "      <td>1</td>\n",
       "      <td>женат / замужем</td>\n",
       "      <td>0</td>\n",
       "      <td>M</td>\n",
       "      <td>сотрудник</td>\n",
       "      <td>0</td>\n",
       "      <td>267628.550329</td>\n",
       "      <td>дополнительное образование</td>\n",
       "    </tr>\n",
       "    <tr>\n",
       "      <th>4</th>\n",
       "      <td>0</td>\n",
       "      <td>340266.072047</td>\n",
       "      <td>53</td>\n",
       "      <td>среднее</td>\n",
       "      <td>1</td>\n",
       "      <td>гражданский брак</td>\n",
       "      <td>1</td>\n",
       "      <td>F</td>\n",
       "      <td>пенсионер</td>\n",
       "      <td>0</td>\n",
       "      <td>158616.077870</td>\n",
       "      <td>сыграть свадьбу</td>\n",
       "    </tr>\n",
       "    <tr>\n",
       "      <th>5</th>\n",
       "      <td>0</td>\n",
       "      <td>-926.185831</td>\n",
       "      <td>27</td>\n",
       "      <td>высшее</td>\n",
       "      <td>0</td>\n",
       "      <td>гражданский брак</td>\n",
       "      <td>1</td>\n",
       "      <td>M</td>\n",
       "      <td>компаньон</td>\n",
       "      <td>0</td>\n",
       "      <td>255763.565419</td>\n",
       "      <td>покупка жилья</td>\n",
       "    </tr>\n",
       "    <tr>\n",
       "      <th>6</th>\n",
       "      <td>0</td>\n",
       "      <td>-2879.202052</td>\n",
       "      <td>43</td>\n",
       "      <td>высшее</td>\n",
       "      <td>0</td>\n",
       "      <td>женат / замужем</td>\n",
       "      <td>0</td>\n",
       "      <td>F</td>\n",
       "      <td>компаньон</td>\n",
       "      <td>0</td>\n",
       "      <td>240525.971920</td>\n",
       "      <td>операции с жильем</td>\n",
       "    </tr>\n",
       "    <tr>\n",
       "      <th>7</th>\n",
       "      <td>0</td>\n",
       "      <td>-152.779569</td>\n",
       "      <td>50</td>\n",
       "      <td>СРЕДНЕЕ</td>\n",
       "      <td>1</td>\n",
       "      <td>женат / замужем</td>\n",
       "      <td>0</td>\n",
       "      <td>M</td>\n",
       "      <td>сотрудник</td>\n",
       "      <td>0</td>\n",
       "      <td>135823.934197</td>\n",
       "      <td>образование</td>\n",
       "    </tr>\n",
       "    <tr>\n",
       "      <th>8</th>\n",
       "      <td>2</td>\n",
       "      <td>-6929.865299</td>\n",
       "      <td>35</td>\n",
       "      <td>ВЫСШЕЕ</td>\n",
       "      <td>0</td>\n",
       "      <td>гражданский брак</td>\n",
       "      <td>1</td>\n",
       "      <td>F</td>\n",
       "      <td>сотрудник</td>\n",
       "      <td>0</td>\n",
       "      <td>95856.832424</td>\n",
       "      <td>на проведение свадьбы</td>\n",
       "    </tr>\n",
       "    <tr>\n",
       "      <th>9</th>\n",
       "      <td>0</td>\n",
       "      <td>-2188.756445</td>\n",
       "      <td>41</td>\n",
       "      <td>среднее</td>\n",
       "      <td>1</td>\n",
       "      <td>женат / замужем</td>\n",
       "      <td>0</td>\n",
       "      <td>M</td>\n",
       "      <td>сотрудник</td>\n",
       "      <td>0</td>\n",
       "      <td>144425.938277</td>\n",
       "      <td>покупка жилья для семьи</td>\n",
       "    </tr>\n",
       "    <tr>\n",
       "      <th>10</th>\n",
       "      <td>2</td>\n",
       "      <td>-4171.483647</td>\n",
       "      <td>36</td>\n",
       "      <td>высшее</td>\n",
       "      <td>0</td>\n",
       "      <td>женат / замужем</td>\n",
       "      <td>0</td>\n",
       "      <td>M</td>\n",
       "      <td>компаньон</td>\n",
       "      <td>0</td>\n",
       "      <td>113943.491460</td>\n",
       "      <td>покупка недвижимости</td>\n",
       "    </tr>\n",
       "    <tr>\n",
       "      <th>11</th>\n",
       "      <td>0</td>\n",
       "      <td>-792.701887</td>\n",
       "      <td>40</td>\n",
       "      <td>среднее</td>\n",
       "      <td>1</td>\n",
       "      <td>женат / замужем</td>\n",
       "      <td>0</td>\n",
       "      <td>F</td>\n",
       "      <td>сотрудник</td>\n",
       "      <td>0</td>\n",
       "      <td>77069.234271</td>\n",
       "      <td>покупка коммерческой недвижимости</td>\n",
       "    </tr>\n",
       "    <tr>\n",
       "      <th>12</th>\n",
       "      <td>0</td>\n",
       "      <td>NaN</td>\n",
       "      <td>65</td>\n",
       "      <td>среднее</td>\n",
       "      <td>1</td>\n",
       "      <td>гражданский брак</td>\n",
       "      <td>1</td>\n",
       "      <td>M</td>\n",
       "      <td>пенсионер</td>\n",
       "      <td>0</td>\n",
       "      <td>NaN</td>\n",
       "      <td>сыграть свадьбу</td>\n",
       "    </tr>\n",
       "    <tr>\n",
       "      <th>13</th>\n",
       "      <td>0</td>\n",
       "      <td>-1846.641941</td>\n",
       "      <td>54</td>\n",
       "      <td>неоконченное высшее</td>\n",
       "      <td>2</td>\n",
       "      <td>женат / замужем</td>\n",
       "      <td>0</td>\n",
       "      <td>F</td>\n",
       "      <td>сотрудник</td>\n",
       "      <td>0</td>\n",
       "      <td>130458.228857</td>\n",
       "      <td>приобретение автомобиля</td>\n",
       "    </tr>\n",
       "    <tr>\n",
       "      <th>14</th>\n",
       "      <td>0</td>\n",
       "      <td>-1844.956182</td>\n",
       "      <td>56</td>\n",
       "      <td>высшее</td>\n",
       "      <td>0</td>\n",
       "      <td>гражданский брак</td>\n",
       "      <td>1</td>\n",
       "      <td>F</td>\n",
       "      <td>компаньон</td>\n",
       "      <td>1</td>\n",
       "      <td>165127.911772</td>\n",
       "      <td>покупка жилой недвижимости</td>\n",
       "    </tr>\n",
       "    <tr>\n",
       "      <th>15</th>\n",
       "      <td>1</td>\n",
       "      <td>-972.364419</td>\n",
       "      <td>26</td>\n",
       "      <td>среднее</td>\n",
       "      <td>1</td>\n",
       "      <td>женат / замужем</td>\n",
       "      <td>0</td>\n",
       "      <td>F</td>\n",
       "      <td>сотрудник</td>\n",
       "      <td>0</td>\n",
       "      <td>116820.904450</td>\n",
       "      <td>строительство собственной недвижимости</td>\n",
       "    </tr>\n",
       "    <tr>\n",
       "      <th>16</th>\n",
       "      <td>0</td>\n",
       "      <td>-1719.934226</td>\n",
       "      <td>35</td>\n",
       "      <td>среднее</td>\n",
       "      <td>1</td>\n",
       "      <td>женат / замужем</td>\n",
       "      <td>0</td>\n",
       "      <td>F</td>\n",
       "      <td>сотрудник</td>\n",
       "      <td>0</td>\n",
       "      <td>289202.704229</td>\n",
       "      <td>недвижимость</td>\n",
       "    </tr>\n",
       "    <tr>\n",
       "      <th>17</th>\n",
       "      <td>0</td>\n",
       "      <td>-2369.999720</td>\n",
       "      <td>33</td>\n",
       "      <td>высшее</td>\n",
       "      <td>0</td>\n",
       "      <td>гражданский брак</td>\n",
       "      <td>1</td>\n",
       "      <td>M</td>\n",
       "      <td>сотрудник</td>\n",
       "      <td>0</td>\n",
       "      <td>90410.586745</td>\n",
       "      <td>строительство недвижимости</td>\n",
       "    </tr>\n",
       "    <tr>\n",
       "      <th>18</th>\n",
       "      <td>0</td>\n",
       "      <td>400281.136913</td>\n",
       "      <td>53</td>\n",
       "      <td>среднее</td>\n",
       "      <td>1</td>\n",
       "      <td>вдовец / вдова</td>\n",
       "      <td>2</td>\n",
       "      <td>F</td>\n",
       "      <td>пенсионер</td>\n",
       "      <td>0</td>\n",
       "      <td>56823.777243</td>\n",
       "      <td>на покупку подержанного автомобиля</td>\n",
       "    </tr>\n",
       "    <tr>\n",
       "      <th>19</th>\n",
       "      <td>0</td>\n",
       "      <td>-10038.818549</td>\n",
       "      <td>48</td>\n",
       "      <td>СРЕДНЕЕ</td>\n",
       "      <td>1</td>\n",
       "      <td>в разводе</td>\n",
       "      <td>3</td>\n",
       "      <td>F</td>\n",
       "      <td>сотрудник</td>\n",
       "      <td>0</td>\n",
       "      <td>242831.107982</td>\n",
       "      <td>на покупку своего автомобиля</td>\n",
       "    </tr>\n",
       "  </tbody>\n",
       "</table>\n",
       "</div>"
      ],
      "text/plain": [
       "    children  days_employed  dob_years            education  education_id  \\\n",
       "0          1   -8437.673028         42               высшее             0   \n",
       "1          1   -4024.803754         36              среднее             1   \n",
       "2          0   -5623.422610         33              Среднее             1   \n",
       "3          3   -4124.747207         32              среднее             1   \n",
       "4          0  340266.072047         53              среднее             1   \n",
       "5          0    -926.185831         27               высшее             0   \n",
       "6          0   -2879.202052         43               высшее             0   \n",
       "7          0    -152.779569         50              СРЕДНЕЕ             1   \n",
       "8          2   -6929.865299         35               ВЫСШЕЕ             0   \n",
       "9          0   -2188.756445         41              среднее             1   \n",
       "10         2   -4171.483647         36               высшее             0   \n",
       "11         0    -792.701887         40              среднее             1   \n",
       "12         0            NaN         65              среднее             1   \n",
       "13         0   -1846.641941         54  неоконченное высшее             2   \n",
       "14         0   -1844.956182         56               высшее             0   \n",
       "15         1    -972.364419         26              среднее             1   \n",
       "16         0   -1719.934226         35              среднее             1   \n",
       "17         0   -2369.999720         33               высшее             0   \n",
       "18         0  400281.136913         53              среднее             1   \n",
       "19         0  -10038.818549         48              СРЕДНЕЕ             1   \n",
       "\n",
       "       family_status  family_status_id gender income_type  debt  \\\n",
       "0    женат / замужем                 0      F   сотрудник     0   \n",
       "1    женат / замужем                 0      F   сотрудник     0   \n",
       "2    женат / замужем                 0      M   сотрудник     0   \n",
       "3    женат / замужем                 0      M   сотрудник     0   \n",
       "4   гражданский брак                 1      F   пенсионер     0   \n",
       "5   гражданский брак                 1      M   компаньон     0   \n",
       "6    женат / замужем                 0      F   компаньон     0   \n",
       "7    женат / замужем                 0      M   сотрудник     0   \n",
       "8   гражданский брак                 1      F   сотрудник     0   \n",
       "9    женат / замужем                 0      M   сотрудник     0   \n",
       "10   женат / замужем                 0      M   компаньон     0   \n",
       "11   женат / замужем                 0      F   сотрудник     0   \n",
       "12  гражданский брак                 1      M   пенсионер     0   \n",
       "13   женат / замужем                 0      F   сотрудник     0   \n",
       "14  гражданский брак                 1      F   компаньон     1   \n",
       "15   женат / замужем                 0      F   сотрудник     0   \n",
       "16   женат / замужем                 0      F   сотрудник     0   \n",
       "17  гражданский брак                 1      M   сотрудник     0   \n",
       "18    вдовец / вдова                 2      F   пенсионер     0   \n",
       "19         в разводе                 3      F   сотрудник     0   \n",
       "\n",
       "     total_income                                 purpose  \n",
       "0   253875.639453                           покупка жилья  \n",
       "1   112080.014102                 приобретение автомобиля  \n",
       "2   145885.952297                           покупка жилья  \n",
       "3   267628.550329              дополнительное образование  \n",
       "4   158616.077870                         сыграть свадьбу  \n",
       "5   255763.565419                           покупка жилья  \n",
       "6   240525.971920                       операции с жильем  \n",
       "7   135823.934197                             образование  \n",
       "8    95856.832424                   на проведение свадьбы  \n",
       "9   144425.938277                 покупка жилья для семьи  \n",
       "10  113943.491460                    покупка недвижимости  \n",
       "11   77069.234271       покупка коммерческой недвижимости  \n",
       "12            NaN                         сыграть свадьбу  \n",
       "13  130458.228857                 приобретение автомобиля  \n",
       "14  165127.911772              покупка жилой недвижимости  \n",
       "15  116820.904450  строительство собственной недвижимости  \n",
       "16  289202.704229                            недвижимость  \n",
       "17   90410.586745              строительство недвижимости  \n",
       "18   56823.777243      на покупку подержанного автомобиля  \n",
       "19  242831.107982            на покупку своего автомобиля  "
      ]
     },
     "execution_count": 4,
     "metadata": {},
     "output_type": "execute_result"
    }
   ],
   "source": [
    "data.head(20)"
   ]
  },
  {
   "cell_type": "markdown",
   "id": "2fd1e2aa",
   "metadata": {
    "deletable": false,
    "editable": false,
    "id": "1c12e233"
   },
   "source": [
    "**Задание 3. Выведите основную информацию о датафрейме с помощью метода `info()`.**\n"
   ]
  },
  {
   "cell_type": "code",
   "execution_count": 37,
   "id": "7861b492",
   "metadata": {
    "deletable": false,
    "id": "2b757bca",
    "is_executing": true,
    "outputId": "15376089-8dad-46c9-b520-c05248d43158"
   },
   "outputs": [
    {
     "name": "stdout",
     "output_type": "stream",
     "text": [
      "<class 'pandas.core.frame.DataFrame'>\n",
      "RangeIndex: 21525 entries, 0 to 21524\n",
      "Data columns (total 12 columns):\n",
      " #   Column            Non-Null Count  Dtype  \n",
      "---  ------            --------------  -----  \n",
      " 0   children          21525 non-null  int64  \n",
      " 1   days_employed     19351 non-null  float64\n",
      " 2   dob_years         21525 non-null  int64  \n",
      " 3   education         21525 non-null  object \n",
      " 4   education_id      21525 non-null  int64  \n",
      " 5   family_status     21525 non-null  object \n",
      " 6   family_status_id  21525 non-null  int64  \n",
      " 7   gender            21525 non-null  object \n",
      " 8   income_type       21525 non-null  object \n",
      " 9   debt              21525 non-null  int64  \n",
      " 10  total_income      19351 non-null  float64\n",
      " 11  purpose           21525 non-null  object \n",
      "dtypes: float64(2), int64(5), object(5)\n",
      "memory usage: 2.0+ MB\n"
     ]
    }
   ],
   "source": [
    "data.info()"
   ]
  },
  {
   "cell_type": "markdown",
   "id": "832cc56a",
   "metadata": {
    "deletable": false,
    "editable": false,
    "id": "333ec665"
   },
   "source": [
    "## Предобработка данных\n"
   ]
  },
  {
   "cell_type": "markdown",
   "id": "17707a3a",
   "metadata": {
    "deletable": false,
    "editable": false,
    "id": "02d92d53"
   },
   "source": [
    "### Удаление пропусков\n"
   ]
  },
  {
   "cell_type": "markdown",
   "id": "f731da0d",
   "metadata": {
    "deletable": false,
    "editable": false,
    "id": "cd84967c"
   },
   "source": [
    "**Задание 4. Выведите количество пропущенных значений для каждого столбца. Используйте комбинацию двух методов.**\n"
   ]
  },
  {
   "cell_type": "code",
   "execution_count": 38,
   "id": "7724d35b",
   "metadata": {
    "deletable": false,
    "id": "7f9b2309",
    "is_executing": true,
    "outputId": "81f4d817-781c-465c-ed15-91ce4446810d"
   },
   "outputs": [
    {
     "data": {
      "text/plain": [
       "children               0\n",
       "days_employed       2174\n",
       "dob_years              0\n",
       "education              0\n",
       "education_id           0\n",
       "family_status          0\n",
       "family_status_id       0\n",
       "gender                 0\n",
       "income_type            0\n",
       "debt                   0\n",
       "total_income        2174\n",
       "purpose                0\n",
       "dtype: int64"
      ]
     },
     "execution_count": 38,
     "metadata": {},
     "output_type": "execute_result"
    }
   ],
   "source": [
    "data.isna().sum()"
   ]
  },
  {
   "cell_type": "markdown",
   "id": "5e961840",
   "metadata": {
    "deletable": false,
    "editable": false,
    "id": "db86e27b"
   },
   "source": [
    "**Задание 5. В двух столбцах есть пропущенные значения. Один из них — `days_employed`. Пропуски в этом столбце вы обработаете на следующем этапе. Другой столбец с пропущенными значениями — `total_income` — хранит данные о доходах. На сумму дохода сильнее всего влияет тип занятости, поэтому заполнить пропуски в этом столбце нужно медианным значением по каждому типу из столбца `income_type`. Например, у человека с типом занятости `сотрудник` пропуск в столбце `total_income` должен быть заполнен медианным доходом среди всех записей с тем же типом.**\n"
   ]
  },
  {
   "cell_type": "code",
   "execution_count": 39,
   "id": "f98b7cba",
   "metadata": {
    "deletable": false,
    "id": "42006a93"
   },
   "outputs": [],
   "source": [
    "for t in data[\"income_type\"].unique():\n",
    "    data.loc[\n",
    "        (data[\"income_type\"] == t) & (\n",
    "            data[\"total_income\"].isna()), \"total_income\"\n",
    "    ] = data.loc[(data[\"income_type\"] == t), \"total_income\"].median()"
   ]
  },
  {
   "cell_type": "markdown",
   "id": "4a321d18",
   "metadata": {
    "deletable": false,
    "editable": false,
    "id": "89da5ece"
   },
   "source": [
    "### Обработка аномальных значений\n"
   ]
  },
  {
   "cell_type": "markdown",
   "id": "5eccc069",
   "metadata": {
    "deletable": false,
    "editable": false,
    "id": "57964554"
   },
   "source": [
    "**Задание 6. В данных могут встречаться артефакты (аномалии) — значения, которые не отражают действительность и появились по какой-то ошибке. таким артефактом будет отрицательное количество дней трудового стажа в столбце `days_employed`. Для реальных данных это нормально. Обработайте значения в этом столбце: замените все отрицательные значения положительными с помощью метода `abs()`.**\n"
   ]
  },
  {
   "cell_type": "code",
   "execution_count": 40,
   "id": "0603544b",
   "metadata": {
    "deletable": false,
    "id": "f6f055bf"
   },
   "outputs": [],
   "source": [
    "data[\"days_employed\"] = data[\"days_employed\"].abs()"
   ]
  },
  {
   "cell_type": "markdown",
   "id": "d0c04bb7",
   "metadata": {
    "deletable": false,
    "editable": false,
    "id": "6107dd2f"
   },
   "source": [
    "**Задание 7. Для каждого типа занятости выведите медианное значение трудового стажа `days_employed` в днях.**\n"
   ]
  },
  {
   "cell_type": "code",
   "execution_count": 41,
   "id": "5bb0b247",
   "metadata": {
    "deletable": false,
    "id": "85a5faf6",
    "outputId": "801ef80e-522b-4668-f34e-565af7432bcf"
   },
   "outputs": [
    {
     "data": {
      "text/plain": [
       "income_type\n",
       "безработный        366413.652744\n",
       "в декрете            3296.759962\n",
       "госслужащий          2689.368353\n",
       "компаньон            1547.382223\n",
       "пенсионер          365213.306266\n",
       "предприниматель       520.848083\n",
       "сотрудник            1574.202821\n",
       "студент               578.751554\n",
       "Name: days_employed, dtype: float64"
      ]
     },
     "execution_count": 41,
     "metadata": {},
     "output_type": "execute_result"
    }
   ],
   "source": [
    "data.groupby(\"income_type\")[\"days_employed\"].agg(\"median\")"
   ]
  },
  {
   "cell_type": "markdown",
   "id": "2ad4aff0",
   "metadata": {
    "deletable": false,
    "editable": false,
    "id": "38d1a030"
   },
   "source": [
    "У двух типов (безработные и пенсионеры) получатся аномально большие значения. Исправить такие значения сложно, поэтому оставьте их как есть. Тем более этот столбец не понадобится вам для исследования.\n"
   ]
  },
  {
   "cell_type": "markdown",
   "id": "a855e7ac",
   "metadata": {
    "deletable": false,
    "editable": false,
    "id": "d8a9f147"
   },
   "source": [
    "**Задание 8. Выведите перечень уникальных значений столбца `children`.**\n"
   ]
  },
  {
   "cell_type": "code",
   "execution_count": 42,
   "id": "080ae7a3",
   "metadata": {
    "deletable": false,
    "id": "ef5056eb",
    "outputId": "6975b15c-7f95-4697-d16d-a0c79b657b03"
   },
   "outputs": [
    {
     "data": {
      "text/plain": [
       "array([ 1,  0,  3,  2, -1,  4, 20,  5], dtype=int64)"
      ]
     },
     "execution_count": 42,
     "metadata": {},
     "output_type": "execute_result"
    }
   ],
   "source": [
    "data[\"children\"].unique()"
   ]
  },
  {
   "cell_type": "markdown",
   "id": "8c4d53af",
   "metadata": {
    "deletable": false,
    "editable": false,
    "id": "40b9ebf2"
   },
   "source": [
    "**Задание 9. В столбце `children` есть два аномальных значения. Удалите строки, в которых встречаются такие аномальные значения из датафрейма `data`.**\n"
   ]
  },
  {
   "cell_type": "code",
   "execution_count": 43,
   "id": "ae448833",
   "metadata": {
    "deletable": false,
    "id": "3ff9801d"
   },
   "outputs": [],
   "source": [
    "data = data[(data[\"children\"] != -1) & (data[\"children\"] != 20)]"
   ]
  },
  {
   "cell_type": "markdown",
   "id": "1a422b4e",
   "metadata": {
    "deletable": false,
    "editable": false,
    "id": "bbc4d0ce"
   },
   "source": [
    "**Задание 10. Ещё раз выведите перечень уникальных значений столбца `children`, чтобы убедиться, что артефакты удалены.**\n"
   ]
  },
  {
   "cell_type": "code",
   "execution_count": 44,
   "id": "f2c24b65",
   "metadata": {
    "deletable": false,
    "id": "ad4fa8b7",
    "outputId": "b2097101-d49d-44d9-901b-32a65c9463d1"
   },
   "outputs": [
    {
     "data": {
      "text/plain": [
       "array([1, 0, 3, 2, 4, 5], dtype=int64)"
      ]
     },
     "execution_count": 44,
     "metadata": {},
     "output_type": "execute_result"
    }
   ],
   "source": [
    "data[\"children\"].unique()"
   ]
  },
  {
   "cell_type": "markdown",
   "id": "b81e4a96",
   "metadata": {
    "deletable": false,
    "editable": false,
    "id": "75440b63"
   },
   "source": [
    "### Удаление пропусков (продолжение)\n"
   ]
  },
  {
   "cell_type": "markdown",
   "id": "97cf140a",
   "metadata": {
    "deletable": false,
    "editable": false,
    "id": "f4ea573f"
   },
   "source": [
    "**Задание 11. Заполните пропуски в столбце `days_employed` медианными значениями по каждого типа занятости `income_type`.**\n"
   ]
  },
  {
   "cell_type": "code",
   "execution_count": 45,
   "id": "2214be08",
   "metadata": {
    "deletable": false,
    "id": "af6b1a7e"
   },
   "outputs": [],
   "source": [
    "for t in data[\"income_type\"].unique():\n",
    "    data.loc[\n",
    "        (data[\"income_type\"] == t) & (\n",
    "            data[\"days_employed\"].isna()), \"days_employed\"\n",
    "    ] = data.loc[(data[\"income_type\"] == t), \"days_employed\"].median()"
   ]
  },
  {
   "cell_type": "markdown",
   "id": "cd8141df",
   "metadata": {
    "deletable": false,
    "editable": false,
    "id": "2753f40d"
   },
   "source": [
    "**Задание 12. Убедитесь, что все пропуски заполнены. Проверьте себя и ещё раз выведите количество пропущенных значений для каждого столбца с помощью двух методов.**\n"
   ]
  },
  {
   "cell_type": "code",
   "execution_count": 46,
   "id": "0ba52316",
   "metadata": {
    "deletable": false,
    "id": "55f78bc2",
    "outputId": "8da1e4e1-358e-4e87-98c9-f261bce0a7b2"
   },
   "outputs": [
    {
     "data": {
      "text/plain": [
       "children            0\n",
       "days_employed       0\n",
       "dob_years           0\n",
       "education           0\n",
       "education_id        0\n",
       "family_status       0\n",
       "family_status_id    0\n",
       "gender              0\n",
       "income_type         0\n",
       "debt                0\n",
       "total_income        0\n",
       "purpose             0\n",
       "dtype: int64"
      ]
     },
     "execution_count": 46,
     "metadata": {},
     "output_type": "execute_result"
    }
   ],
   "source": [
    "data.isna().sum()"
   ]
  },
  {
   "cell_type": "markdown",
   "id": "1a89e798",
   "metadata": {
    "deletable": false,
    "editable": false,
    "id": "ddc81e43"
   },
   "source": [
    "### Изменение типов данных\n"
   ]
  },
  {
   "cell_type": "markdown",
   "id": "d2a3d51e",
   "metadata": {
    "deletable": false,
    "editable": false,
    "id": "42d19d24"
   },
   "source": [
    "**Задание 13. Замените вещественный тип данных в столбце `total_income` на целочисленный с помощью метода `astype()`.**\n"
   ]
  },
  {
   "cell_type": "code",
   "execution_count": 47,
   "id": "946d4fa5",
   "metadata": {
    "deletable": false,
    "id": "920b65ad"
   },
   "outputs": [],
   "source": [
    "data[\"total_income\"] = data[\"total_income\"].astype(int)"
   ]
  },
  {
   "cell_type": "markdown",
   "id": "34111a0f",
   "metadata": {
    "deletable": false,
    "editable": false,
    "id": "80c420ba"
   },
   "source": [
    "### Обработка дубликатов\n"
   ]
  },
  {
   "cell_type": "markdown",
   "id": "89257780",
   "metadata": {
    "deletable": false,
    "editable": false
   },
   "source": [
    "**Задание 14. Обработайте неявные дубликаты в столбце `education`. В этом столбце есть одни и те же значения, но записанные по-разному: с использованием заглавных и строчных букв. Приведите их к нижнему регистру. Проверьте остальные столбцы.**\n"
   ]
  },
  {
   "cell_type": "code",
   "execution_count": 48,
   "id": "7220a1f1",
   "metadata": {
    "deletable": false
   },
   "outputs": [],
   "source": [
    "data[\"education\"] = data[\"education\"].str.lower()"
   ]
  },
  {
   "cell_type": "markdown",
   "id": "4200cb91",
   "metadata": {
    "deletable": false,
    "editable": false,
    "id": "dc587695"
   },
   "source": [
    "**Задание 15. Выведите на экран количество строк-дубликатов в данных. Если такие строки присутствуют, удалите их.**\n"
   ]
  },
  {
   "cell_type": "code",
   "execution_count": 49,
   "id": "1a915da5",
   "metadata": {
    "deletable": false,
    "id": "3ee445e4",
    "outputId": "9684deba-1934-42d1-99e1-cda61740f822"
   },
   "outputs": [
    {
     "data": {
      "text/plain": [
       "71"
      ]
     },
     "execution_count": 49,
     "metadata": {},
     "output_type": "execute_result"
    }
   ],
   "source": [
    "data.duplicated().sum()"
   ]
  },
  {
   "cell_type": "code",
   "execution_count": 50,
   "id": "b98e718f",
   "metadata": {
    "deletable": false,
    "id": "8575fe05"
   },
   "outputs": [],
   "source": [
    "data = data.drop_duplicates()"
   ]
  },
  {
   "cell_type": "markdown",
   "id": "e41f45a8",
   "metadata": {
    "deletable": false,
    "editable": false,
    "id": "9904cf55"
   },
   "source": [
    "### Категоризация данных\n"
   ]
  },
  {
   "cell_type": "markdown",
   "id": "245f566e",
   "metadata": {
    "deletable": false,
    "editable": false,
    "id": "72fcc8a2"
   },
   "source": [
    "**Задание 16. На основании диапазонов, указанных ниже, создайте в датафрейме `data` столбец `total_income_category` с категориями:**\n",
    "\n",
    "- 0–30000 — `'E'`;\n",
    "- 30001–50000 — `'D'`;\n",
    "- 50001–200000 — `'C'`;\n",
    "- 200001–1000000 — `'B'`;\n",
    "- 1000001 и выше — `'A'`.\n",
    "\n",
    "**Например, кредитополучателю с доходом 25000 нужно назначить категорию `'E'`, а клиенту, получающему 235000, — `'B'`. Используйте собственную функцию с именем `categorize_income()` и метод `apply()`.**\n"
   ]
  },
  {
   "cell_type": "code",
   "execution_count": 51,
   "id": "4448068e",
   "metadata": {
    "deletable": false,
    "id": "e1771346"
   },
   "outputs": [],
   "source": [
    "def categorize_income(income):\n",
    "    try:\n",
    "        if 0 <= income <= 30000:\n",
    "            return \"E\"\n",
    "        elif 30001 <= income <= 50000:\n",
    "            return \"D\"\n",
    "        elif 50001 <= income <= 200000:\n",
    "            return \"C\"\n",
    "        elif 200001 <= income <= 1000000:\n",
    "            return \"B\"\n",
    "        elif income >= 1000001:\n",
    "            return \"A\"\n",
    "    except:\n",
    "        pass"
   ]
  },
  {
   "cell_type": "code",
   "execution_count": 52,
   "id": "6a46ea06",
   "metadata": {
    "deletable": false,
    "id": "d5f3586d"
   },
   "outputs": [],
   "source": [
    "data[\"total_income_category\"] = data[\"total_income\"].apply(categorize_income)"
   ]
  },
  {
   "cell_type": "markdown",
   "id": "4fb1d274",
   "metadata": {
    "deletable": false,
    "editable": false,
    "id": "dde49b5c"
   },
   "source": [
    "**Задание 17. Выведите на экран перечень уникальных целей взятия кредита из столбца `purpose`.**\n"
   ]
  },
  {
   "cell_type": "code",
   "execution_count": 53,
   "id": "90a459c3",
   "metadata": {
    "deletable": false,
    "id": "f67ce9b3",
    "outputId": "673c12d9-7d7e-4ae0-9812-c622c89dd244"
   },
   "outputs": [
    {
     "data": {
      "text/html": [
       "<div>\n",
       "<style scoped>\n",
       "    .dataframe tbody tr th:only-of-type {\n",
       "        vertical-align: middle;\n",
       "    }\n",
       "\n",
       "    .dataframe tbody tr th {\n",
       "        vertical-align: top;\n",
       "    }\n",
       "\n",
       "    .dataframe thead th {\n",
       "        text-align: right;\n",
       "    }\n",
       "</style>\n",
       "<table border=\"1\" class=\"dataframe\">\n",
       "  <thead>\n",
       "    <tr style=\"text-align: right;\">\n",
       "      <th></th>\n",
       "      <th>children</th>\n",
       "      <th>days_employed</th>\n",
       "      <th>dob_years</th>\n",
       "      <th>education</th>\n",
       "      <th>education_id</th>\n",
       "      <th>family_status</th>\n",
       "      <th>family_status_id</th>\n",
       "      <th>gender</th>\n",
       "      <th>income_type</th>\n",
       "      <th>debt</th>\n",
       "      <th>total_income</th>\n",
       "      <th>purpose</th>\n",
       "      <th>total_income_category</th>\n",
       "    </tr>\n",
       "  </thead>\n",
       "  <tbody>\n",
       "    <tr>\n",
       "      <th>0</th>\n",
       "      <td>1</td>\n",
       "      <td>8437.673028</td>\n",
       "      <td>42</td>\n",
       "      <td>высшее</td>\n",
       "      <td>0</td>\n",
       "      <td>женат / замужем</td>\n",
       "      <td>0</td>\n",
       "      <td>F</td>\n",
       "      <td>сотрудник</td>\n",
       "      <td>0</td>\n",
       "      <td>253875</td>\n",
       "      <td>покупка жилья</td>\n",
       "      <td>B</td>\n",
       "    </tr>\n",
       "    <tr>\n",
       "      <th>1</th>\n",
       "      <td>1</td>\n",
       "      <td>4024.803754</td>\n",
       "      <td>36</td>\n",
       "      <td>среднее</td>\n",
       "      <td>1</td>\n",
       "      <td>женат / замужем</td>\n",
       "      <td>0</td>\n",
       "      <td>F</td>\n",
       "      <td>сотрудник</td>\n",
       "      <td>0</td>\n",
       "      <td>112080</td>\n",
       "      <td>приобретение автомобиля</td>\n",
       "      <td>C</td>\n",
       "    </tr>\n",
       "    <tr>\n",
       "      <th>2</th>\n",
       "      <td>0</td>\n",
       "      <td>5623.422610</td>\n",
       "      <td>33</td>\n",
       "      <td>среднее</td>\n",
       "      <td>1</td>\n",
       "      <td>женат / замужем</td>\n",
       "      <td>0</td>\n",
       "      <td>M</td>\n",
       "      <td>сотрудник</td>\n",
       "      <td>0</td>\n",
       "      <td>145885</td>\n",
       "      <td>покупка жилья</td>\n",
       "      <td>C</td>\n",
       "    </tr>\n",
       "    <tr>\n",
       "      <th>3</th>\n",
       "      <td>3</td>\n",
       "      <td>4124.747207</td>\n",
       "      <td>32</td>\n",
       "      <td>среднее</td>\n",
       "      <td>1</td>\n",
       "      <td>женат / замужем</td>\n",
       "      <td>0</td>\n",
       "      <td>M</td>\n",
       "      <td>сотрудник</td>\n",
       "      <td>0</td>\n",
       "      <td>267628</td>\n",
       "      <td>дополнительное образование</td>\n",
       "      <td>B</td>\n",
       "    </tr>\n",
       "    <tr>\n",
       "      <th>4</th>\n",
       "      <td>0</td>\n",
       "      <td>340266.072047</td>\n",
       "      <td>53</td>\n",
       "      <td>среднее</td>\n",
       "      <td>1</td>\n",
       "      <td>гражданский брак</td>\n",
       "      <td>1</td>\n",
       "      <td>F</td>\n",
       "      <td>пенсионер</td>\n",
       "      <td>0</td>\n",
       "      <td>158616</td>\n",
       "      <td>сыграть свадьбу</td>\n",
       "      <td>C</td>\n",
       "    </tr>\n",
       "    <tr>\n",
       "      <th>...</th>\n",
       "      <td>...</td>\n",
       "      <td>...</td>\n",
       "      <td>...</td>\n",
       "      <td>...</td>\n",
       "      <td>...</td>\n",
       "      <td>...</td>\n",
       "      <td>...</td>\n",
       "      <td>...</td>\n",
       "      <td>...</td>\n",
       "      <td>...</td>\n",
       "      <td>...</td>\n",
       "      <td>...</td>\n",
       "      <td>...</td>\n",
       "    </tr>\n",
       "    <tr>\n",
       "      <th>21520</th>\n",
       "      <td>1</td>\n",
       "      <td>4529.316663</td>\n",
       "      <td>43</td>\n",
       "      <td>среднее</td>\n",
       "      <td>1</td>\n",
       "      <td>гражданский брак</td>\n",
       "      <td>1</td>\n",
       "      <td>F</td>\n",
       "      <td>компаньон</td>\n",
       "      <td>0</td>\n",
       "      <td>224791</td>\n",
       "      <td>операции с жильем</td>\n",
       "      <td>B</td>\n",
       "    </tr>\n",
       "    <tr>\n",
       "      <th>21521</th>\n",
       "      <td>0</td>\n",
       "      <td>343937.404131</td>\n",
       "      <td>67</td>\n",
       "      <td>среднее</td>\n",
       "      <td>1</td>\n",
       "      <td>женат / замужем</td>\n",
       "      <td>0</td>\n",
       "      <td>F</td>\n",
       "      <td>пенсионер</td>\n",
       "      <td>0</td>\n",
       "      <td>155999</td>\n",
       "      <td>сделка с автомобилем</td>\n",
       "      <td>C</td>\n",
       "    </tr>\n",
       "    <tr>\n",
       "      <th>21522</th>\n",
       "      <td>1</td>\n",
       "      <td>2113.346888</td>\n",
       "      <td>38</td>\n",
       "      <td>среднее</td>\n",
       "      <td>1</td>\n",
       "      <td>гражданский брак</td>\n",
       "      <td>1</td>\n",
       "      <td>M</td>\n",
       "      <td>сотрудник</td>\n",
       "      <td>1</td>\n",
       "      <td>89672</td>\n",
       "      <td>недвижимость</td>\n",
       "      <td>C</td>\n",
       "    </tr>\n",
       "    <tr>\n",
       "      <th>21523</th>\n",
       "      <td>3</td>\n",
       "      <td>3112.481705</td>\n",
       "      <td>38</td>\n",
       "      <td>среднее</td>\n",
       "      <td>1</td>\n",
       "      <td>женат / замужем</td>\n",
       "      <td>0</td>\n",
       "      <td>M</td>\n",
       "      <td>сотрудник</td>\n",
       "      <td>1</td>\n",
       "      <td>244093</td>\n",
       "      <td>на покупку своего автомобиля</td>\n",
       "      <td>B</td>\n",
       "    </tr>\n",
       "    <tr>\n",
       "      <th>21524</th>\n",
       "      <td>2</td>\n",
       "      <td>1984.507589</td>\n",
       "      <td>40</td>\n",
       "      <td>среднее</td>\n",
       "      <td>1</td>\n",
       "      <td>женат / замужем</td>\n",
       "      <td>0</td>\n",
       "      <td>F</td>\n",
       "      <td>сотрудник</td>\n",
       "      <td>0</td>\n",
       "      <td>82047</td>\n",
       "      <td>на покупку автомобиля</td>\n",
       "      <td>C</td>\n",
       "    </tr>\n",
       "  </tbody>\n",
       "</table>\n",
       "<p>21331 rows × 13 columns</p>\n",
       "</div>"
      ],
      "text/plain": [
       "       children  days_employed  dob_years education  education_id  \\\n",
       "0             1    8437.673028         42    высшее             0   \n",
       "1             1    4024.803754         36   среднее             1   \n",
       "2             0    5623.422610         33   среднее             1   \n",
       "3             3    4124.747207         32   среднее             1   \n",
       "4             0  340266.072047         53   среднее             1   \n",
       "...         ...            ...        ...       ...           ...   \n",
       "21520         1    4529.316663         43   среднее             1   \n",
       "21521         0  343937.404131         67   среднее             1   \n",
       "21522         1    2113.346888         38   среднее             1   \n",
       "21523         3    3112.481705         38   среднее             1   \n",
       "21524         2    1984.507589         40   среднее             1   \n",
       "\n",
       "          family_status  family_status_id gender income_type  debt  \\\n",
       "0       женат / замужем                 0      F   сотрудник     0   \n",
       "1       женат / замужем                 0      F   сотрудник     0   \n",
       "2       женат / замужем                 0      M   сотрудник     0   \n",
       "3       женат / замужем                 0      M   сотрудник     0   \n",
       "4      гражданский брак                 1      F   пенсионер     0   \n",
       "...                 ...               ...    ...         ...   ...   \n",
       "21520  гражданский брак                 1      F   компаньон     0   \n",
       "21521   женат / замужем                 0      F   пенсионер     0   \n",
       "21522  гражданский брак                 1      M   сотрудник     1   \n",
       "21523   женат / замужем                 0      M   сотрудник     1   \n",
       "21524   женат / замужем                 0      F   сотрудник     0   \n",
       "\n",
       "       total_income                       purpose total_income_category  \n",
       "0            253875                 покупка жилья                     B  \n",
       "1            112080       приобретение автомобиля                     C  \n",
       "2            145885                 покупка жилья                     C  \n",
       "3            267628    дополнительное образование                     B  \n",
       "4            158616               сыграть свадьбу                     C  \n",
       "...             ...                           ...                   ...  \n",
       "21520        224791             операции с жильем                     B  \n",
       "21521        155999          сделка с автомобилем                     C  \n",
       "21522         89672                  недвижимость                     C  \n",
       "21523        244093  на покупку своего автомобиля                     B  \n",
       "21524         82047         на покупку автомобиля                     C  \n",
       "\n",
       "[21331 rows x 13 columns]"
      ]
     },
     "execution_count": 53,
     "metadata": {},
     "output_type": "execute_result"
    }
   ],
   "source": [
    "data[\"purpose\"].unique()\n",
    "data"
   ]
  },
  {
   "cell_type": "markdown",
   "id": "4ddbaf0a",
   "metadata": {
    "deletable": false,
    "editable": false,
    "id": "85d0aef0"
   },
   "source": [
    "**Задание 18. Создайте функцию, которая на основании данных из столбца `purpose` сформирует новый столбец `purpose_category`, в который войдут следующие категории:**\n",
    "\n",
    "- `'операции с автомобилем'`,\n",
    "- `'операции с недвижимостью'`,\n",
    "- `'проведение свадьбы'`,\n",
    "- `'получение образования'`.\n",
    "\n",
    "**Например, если в столбце `purpose` находится подстрока `'на покупку автомобиля'`, то в столбце `purpose_category` должна появиться строка `'операции с автомобилем'`.**\n",
    "\n",
    "**Используйте собственную функцию с именем `categorize_purpose()` и метод `apply()`. Изучите данные в столбце `purpose` и определите, какие подстроки помогут вам правильно определить категорию.**\n"
   ]
  },
  {
   "cell_type": "code",
   "execution_count": 54,
   "id": "f8399cb2",
   "metadata": {
    "deletable": false,
    "id": "e149fab4"
   },
   "outputs": [],
   "source": [
    "def categorize_purpose(row):\n",
    "    try:\n",
    "        if \"автом\" in row:\n",
    "            return \"операции с автомобилем\"\n",
    "        elif \"жил\" in row or \"недвиж\" in row:\n",
    "            return \"операции с недвижимостью\"\n",
    "        elif \"свад\" in row:\n",
    "            return \"проведение свадьбы\"\n",
    "        elif \"образов\" in row:\n",
    "            return \"получение образования\"\n",
    "    except:\n",
    "        return \"нет категории\""
   ]
  },
  {
   "cell_type": "code",
   "execution_count": 55,
   "id": "5e241384",
   "metadata": {
    "deletable": false,
    "id": "bf36e69b"
   },
   "outputs": [],
   "source": [
    "data[\"purpose_category\"] = data[\"purpose\"].apply(categorize_purpose)"
   ]
  },
  {
   "cell_type": "markdown",
   "id": "49f9f2d1",
   "metadata": {
    "deletable": false,
    "editable": false,
    "id": "09b242bf"
   },
   "source": [
    "### Шаг 3. Исследуйте данные и ответьте на вопросы\n"
   ]
  },
  {
   "cell_type": "markdown",
   "id": "125f4d4f",
   "metadata": {
    "deletable": false,
    "editable": false,
    "id": "c5d66278"
   },
   "source": [
    "#### 3.1 Есть ли зависимость между количеством детей и возвратом кредита в срок?\n"
   ]
  },
  {
   "cell_type": "code",
   "execution_count": 56,
   "id": "b67cafc6",
   "metadata": {
    "deletable": false,
    "id": "2cacfc4a"
   },
   "outputs": [
    {
     "data": {
      "text/html": [
       "<div>\n",
       "<style scoped>\n",
       "    .dataframe tbody tr th:only-of-type {\n",
       "        vertical-align: middle;\n",
       "    }\n",
       "\n",
       "    .dataframe tbody tr th {\n",
       "        vertical-align: top;\n",
       "    }\n",
       "\n",
       "    .dataframe thead th {\n",
       "        text-align: right;\n",
       "    }\n",
       "</style>\n",
       "<table border=\"1\" class=\"dataframe\">\n",
       "  <thead>\n",
       "    <tr style=\"text-align: right;\">\n",
       "      <th></th>\n",
       "      <th>children</th>\n",
       "      <th>reciepent_number</th>\n",
       "    </tr>\n",
       "  </thead>\n",
       "  <tbody>\n",
       "    <tr>\n",
       "      <th>0</th>\n",
       "      <td>0</td>\n",
       "      <td>14091</td>\n",
       "    </tr>\n",
       "    <tr>\n",
       "      <th>1</th>\n",
       "      <td>1</td>\n",
       "      <td>4808</td>\n",
       "    </tr>\n",
       "    <tr>\n",
       "      <th>2</th>\n",
       "      <td>2</td>\n",
       "      <td>2052</td>\n",
       "    </tr>\n",
       "    <tr>\n",
       "      <th>3</th>\n",
       "      <td>3</td>\n",
       "      <td>330</td>\n",
       "    </tr>\n",
       "    <tr>\n",
       "      <th>4</th>\n",
       "      <td>4</td>\n",
       "      <td>41</td>\n",
       "    </tr>\n",
       "    <tr>\n",
       "      <th>5</th>\n",
       "      <td>5</td>\n",
       "      <td>9</td>\n",
       "    </tr>\n",
       "  </tbody>\n",
       "</table>\n",
       "</div>"
      ],
      "text/plain": [
       "   children  reciepent_number\n",
       "0         0             14091\n",
       "1         1              4808\n",
       "2         2              2052\n",
       "3         3               330\n",
       "4         4                41\n",
       "5         5                 9"
      ]
     },
     "execution_count": 56,
     "metadata": {},
     "output_type": "execute_result"
    }
   ],
   "source": [
    "# Оценим количество кредитополучателей в зависимости от количества детей и построим сводную таблицу\n",
    "\n",
    "data_grouped_by_children = data.groupby(\"children\")\n",
    "number_of_loaners_by_children = data_grouped_by_children[\"children\"].count()\n",
    "\n",
    "number_of_loaners_on_child_dict = dict(\n",
    "    [\n",
    "        (\n",
    "            \"children\",\n",
    "            number_of_loaners_by_children.index.tolist(),\n",
    "        ),\n",
    "        (\"reciepent_number\", number_of_loaners_by_children.values.tolist()),\n",
    "    ]\n",
    ")\n",
    "pivot_table_return_ratio_on_children = pd.DataFrame(\n",
    "    number_of_loaners_on_child_dict)\n",
    "\n",
    "pivot_table_return_ratio_on_children"
   ]
  },
  {
   "cell_type": "code",
   "execution_count": 57,
   "id": "080790a1",
   "metadata": {},
   "outputs": [
    {
     "data": {
      "text/html": [
       "<div>\n",
       "<style scoped>\n",
       "    .dataframe tbody tr th:only-of-type {\n",
       "        vertical-align: middle;\n",
       "    }\n",
       "\n",
       "    .dataframe tbody tr th {\n",
       "        vertical-align: top;\n",
       "    }\n",
       "\n",
       "    .dataframe thead th {\n",
       "        text-align: right;\n",
       "    }\n",
       "</style>\n",
       "<table border=\"1\" class=\"dataframe\">\n",
       "  <thead>\n",
       "    <tr style=\"text-align: right;\">\n",
       "      <th></th>\n",
       "      <th>children</th>\n",
       "      <th>reciepent_number</th>\n",
       "      <th>unsuccessful_debt_return_number</th>\n",
       "      <th>unsuccessful_debt_return_ratio</th>\n",
       "    </tr>\n",
       "  </thead>\n",
       "  <tbody>\n",
       "    <tr>\n",
       "      <th>0</th>\n",
       "      <td>0</td>\n",
       "      <td>14091</td>\n",
       "      <td>1063</td>\n",
       "      <td>7.543822</td>\n",
       "    </tr>\n",
       "    <tr>\n",
       "      <th>1</th>\n",
       "      <td>1</td>\n",
       "      <td>4808</td>\n",
       "      <td>444</td>\n",
       "      <td>9.234609</td>\n",
       "    </tr>\n",
       "    <tr>\n",
       "      <th>2</th>\n",
       "      <td>2</td>\n",
       "      <td>2052</td>\n",
       "      <td>194</td>\n",
       "      <td>9.454191</td>\n",
       "    </tr>\n",
       "    <tr>\n",
       "      <th>3</th>\n",
       "      <td>3</td>\n",
       "      <td>330</td>\n",
       "      <td>27</td>\n",
       "      <td>8.181818</td>\n",
       "    </tr>\n",
       "    <tr>\n",
       "      <th>4</th>\n",
       "      <td>4</td>\n",
       "      <td>41</td>\n",
       "      <td>4</td>\n",
       "      <td>9.756098</td>\n",
       "    </tr>\n",
       "    <tr>\n",
       "      <th>5</th>\n",
       "      <td>5</td>\n",
       "      <td>9</td>\n",
       "      <td>0</td>\n",
       "      <td>0.000000</td>\n",
       "    </tr>\n",
       "  </tbody>\n",
       "</table>\n",
       "</div>"
      ],
      "text/plain": [
       "   children  reciepent_number  unsuccessful_debt_return_number  \\\n",
       "0         0             14091                             1063   \n",
       "1         1              4808                              444   \n",
       "2         2              2052                              194   \n",
       "3         3               330                               27   \n",
       "4         4                41                                4   \n",
       "5         5                 9                                0   \n",
       "\n",
       "   unsuccessful_debt_return_ratio  \n",
       "0                        7.543822  \n",
       "1                        9.234609  \n",
       "2                        9.454191  \n",
       "3                        8.181818  \n",
       "4                        9.756098  \n",
       "5                        0.000000  "
      ]
     },
     "execution_count": 57,
     "metadata": {},
     "output_type": "execute_result"
    }
   ],
   "source": [
    "# Найдем средний процент невозрвата кредита всрок в зависимости от количества детей и количество людей, не вернувших кредит. Добавим их в сводную таблицу\n",
    "\n",
    "unsuccessful_debt_return_ratio_depend_children = (\n",
    "    data_grouped_by_children[\"debt\"].sum(\n",
    "    ) / data_grouped_by_children[\"debt\"].count()\n",
    ") * 100\n",
    "\n",
    "pivot_table_return_ratio_on_children[\n",
    "    \"unsuccessful_debt_return_number\"\n",
    "] = data_grouped_by_children[\"debt\"].sum()\n",
    "pivot_table_return_ratio_on_children[\n",
    "    \"unsuccessful_debt_return_ratio\"\n",
    "] = unsuccessful_debt_return_ratio_depend_children\n",
    "\n",
    "pivot_table_return_ratio_on_children"
   ]
  },
  {
   "cell_type": "markdown",
   "id": "41dbe1b9",
   "metadata": {
    "deletable": false,
    "id": "3a6b99ec"
   },
   "source": [
    "**Вывод:**\n",
    "Сделать вывод о том, как часто кредит всрок возвращают люди с 4 и 5-ю детьми невозможно из-за недостатка данных.\n",
    "Видим, что заемщики без детей в среднем на 1-2 процента чаще возвращают кредит всрок, что может быть связано с отсутствием расходов на детей.\n",
    "\n",
    "Upd:\n",
    "Люди с 1 ребенком или 2 детьми не возвращают кредит практически одинаково часто (9.3% случаев). Лица с 3-мя детьми детьми не возвращают кредит чуть чаще (8.5% случаев).\n"
   ]
  },
  {
   "cell_type": "markdown",
   "id": "716ccf1e",
   "metadata": {
    "deletable": false,
    "editable": false,
    "id": "97be82ca"
   },
   "source": [
    "#### 3.2 Есть ли зависимость между семейным положением и возвратом кредита в срок?\n"
   ]
  },
  {
   "cell_type": "code",
   "execution_count": 58,
   "id": "6a22822a",
   "metadata": {
    "deletable": false,
    "id": "dc3f7ee8"
   },
   "outputs": [
    {
     "data": {
      "text/html": [
       "<div>\n",
       "<style scoped>\n",
       "    .dataframe tbody tr th:only-of-type {\n",
       "        vertical-align: middle;\n",
       "    }\n",
       "\n",
       "    .dataframe tbody tr th {\n",
       "        vertical-align: top;\n",
       "    }\n",
       "\n",
       "    .dataframe thead th {\n",
       "        text-align: right;\n",
       "    }\n",
       "</style>\n",
       "<table border=\"1\" class=\"dataframe\">\n",
       "  <thead>\n",
       "    <tr style=\"text-align: right;\">\n",
       "      <th></th>\n",
       "      <th>family_statuts</th>\n",
       "      <th>reciepent_number</th>\n",
       "    </tr>\n",
       "  </thead>\n",
       "  <tbody>\n",
       "    <tr>\n",
       "      <th>0</th>\n",
       "      <td>Не женат / не замужем</td>\n",
       "      <td>2796</td>\n",
       "    </tr>\n",
       "    <tr>\n",
       "      <th>1</th>\n",
       "      <td>в разводе</td>\n",
       "      <td>1189</td>\n",
       "    </tr>\n",
       "    <tr>\n",
       "      <th>2</th>\n",
       "      <td>вдовец / вдова</td>\n",
       "      <td>951</td>\n",
       "    </tr>\n",
       "    <tr>\n",
       "      <th>3</th>\n",
       "      <td>гражданский брак</td>\n",
       "      <td>4134</td>\n",
       "    </tr>\n",
       "    <tr>\n",
       "      <th>4</th>\n",
       "      <td>женат / замужем</td>\n",
       "      <td>12261</td>\n",
       "    </tr>\n",
       "  </tbody>\n",
       "</table>\n",
       "</div>"
      ],
      "text/plain": [
       "          family_statuts  reciepent_number\n",
       "0  Не женат / не замужем              2796\n",
       "1              в разводе              1189\n",
       "2         вдовец / вдова               951\n",
       "3       гражданский брак              4134\n",
       "4        женат / замужем             12261"
      ]
     },
     "execution_count": 58,
     "metadata": {},
     "output_type": "execute_result"
    }
   ],
   "source": [
    "# Оценим количество заемщиков в зависимости от семейного положения и построим сводную таблицу\n",
    "\n",
    "data_grouped_by_family_status = data.groupby(\"family_status\")\n",
    "\n",
    "number_of_loaners_by_family_status = data_grouped_by_family_status[\n",
    "    \"family_status\"\n",
    "].count()\n",
    "\n",
    "pivot_table_return_ratio_on_family_status = pd.DataFrame(\n",
    "    columns=[\"family_statuts\", \"reciepent_number\"]\n",
    ")\n",
    "pivot_table_return_ratio_on_family_status[\n",
    "    \"family_statuts\"\n",
    "] = number_of_loaners_by_family_status.index.tolist()\n",
    "pivot_table_return_ratio_on_family_status[\n",
    "    \"reciepent_number\"\n",
    "] = number_of_loaners_by_family_status.values.tolist()\n",
    "\n",
    "pivot_table_return_ratio_on_family_status"
   ]
  },
  {
   "cell_type": "code",
   "execution_count": 59,
   "id": "c9f18629",
   "metadata": {},
   "outputs": [
    {
     "data": {
      "text/html": [
       "<div>\n",
       "<style scoped>\n",
       "    .dataframe tbody tr th:only-of-type {\n",
       "        vertical-align: middle;\n",
       "    }\n",
       "\n",
       "    .dataframe tbody tr th {\n",
       "        vertical-align: top;\n",
       "    }\n",
       "\n",
       "    .dataframe thead th {\n",
       "        text-align: right;\n",
       "    }\n",
       "</style>\n",
       "<table border=\"1\" class=\"dataframe\">\n",
       "  <thead>\n",
       "    <tr style=\"text-align: right;\">\n",
       "      <th></th>\n",
       "      <th>family_statuts</th>\n",
       "      <th>reciepent_number</th>\n",
       "      <th>unsuccessful_debt_return_number</th>\n",
       "      <th>unsuccessful_debt_return_ratio</th>\n",
       "    </tr>\n",
       "  </thead>\n",
       "  <tbody>\n",
       "    <tr>\n",
       "      <th>0</th>\n",
       "      <td>вдовец / вдова</td>\n",
       "      <td>951</td>\n",
       "      <td>63</td>\n",
       "      <td>6.624606</td>\n",
       "    </tr>\n",
       "    <tr>\n",
       "      <th>1</th>\n",
       "      <td>в разводе</td>\n",
       "      <td>1189</td>\n",
       "      <td>84</td>\n",
       "      <td>7.064760</td>\n",
       "    </tr>\n",
       "    <tr>\n",
       "      <th>2</th>\n",
       "      <td>женат / замужем</td>\n",
       "      <td>12261</td>\n",
       "      <td>927</td>\n",
       "      <td>7.560558</td>\n",
       "    </tr>\n",
       "    <tr>\n",
       "      <th>3</th>\n",
       "      <td>гражданский брак</td>\n",
       "      <td>4134</td>\n",
       "      <td>385</td>\n",
       "      <td>9.313014</td>\n",
       "    </tr>\n",
       "    <tr>\n",
       "      <th>4</th>\n",
       "      <td>Не женат / не замужем</td>\n",
       "      <td>2796</td>\n",
       "      <td>273</td>\n",
       "      <td>9.763948</td>\n",
       "    </tr>\n",
       "  </tbody>\n",
       "</table>\n",
       "</div>"
      ],
      "text/plain": [
       "          family_statuts  reciepent_number  unsuccessful_debt_return_number  \\\n",
       "0         вдовец / вдова               951                               63   \n",
       "1              в разводе              1189                               84   \n",
       "2        женат / замужем             12261                              927   \n",
       "3       гражданский брак              4134                              385   \n",
       "4  Не женат / не замужем              2796                              273   \n",
       "\n",
       "   unsuccessful_debt_return_ratio  \n",
       "0                        6.624606  \n",
       "1                        7.064760  \n",
       "2                        7.560558  \n",
       "3                        9.313014  \n",
       "4                        9.763948  "
      ]
     },
     "execution_count": 59,
     "metadata": {},
     "output_type": "execute_result"
    }
   ],
   "source": [
    "# Найдем средний процент невозрвата кредита всрок в зависимости от семейного положения и количество людей, не вернувших кредит, добавим их в сводную таблицу\n",
    "\n",
    "unsuccessful_debt_return_ratio_depend_family_status = (\n",
    "    data_grouped_by_family_status[\"debt\"].sum() /\n",
    "    data_grouped_by_family_status[\"debt\"].count()) * 100\n",
    "\n",
    "pivot_table_return_ratio_on_family_status[\n",
    "    \"unsuccessful_debt_return_number\"] = (\n",
    "        data_grouped_by_family_status[\"debt\"].sum().tolist())\n",
    "pivot_table_return_ratio_on_family_status[\n",
    "    \"unsuccessful_debt_return_ratio\"] = unsuccessful_debt_return_ratio_depend_family_status.tolist(\n",
    ")\n",
    "pivot_table_return_ratio_on_family_status = (\n",
    "    pivot_table_return_ratio_on_family_status.sort_values(\n",
    "        by=\"unsuccessful_debt_return_ratio\"))\n",
    "pivot_table_return_ratio_on_family_status.reset_index(drop=True, inplace=True)\n",
    "\n",
    "pivot_table_return_ratio_on_family_status"
   ]
  },
  {
   "cell_type": "markdown",
   "id": "fb612be5",
   "metadata": {
    "deletable": false,
    "id": "1cef7837"
   },
   "source": [
    "**Вывод:**\n",
    "Видим, что люди в статусе вдовца / вдовы наиболее успешно возвращают кредиты, что может быть связано с полученным наследством или с тем, что они брали кредит на похороны. Часто, такие кредиты компесируются родственниками\n",
    "Люди в в браке и в разводе возвращают кредиты на 2% лучше чем люди не замужем или в гражданском браке, и на 1% хуже чем люди потерявшие супругу / супруга\n"
   ]
  },
  {
   "cell_type": "markdown",
   "id": "2713228d",
   "metadata": {
    "deletable": false,
    "editable": false,
    "id": "1e8b2fca"
   },
   "source": [
    "#### 3.3 Есть ли зависимость между уровнем дохода и возвратом кредита в срок?\n"
   ]
  },
  {
   "cell_type": "code",
   "execution_count": 60,
   "id": "c2b95bd5",
   "metadata": {
    "deletable": false,
    "id": "cd7e3720"
   },
   "outputs": [
    {
     "data": {
      "text/html": [
       "<div>\n",
       "<style scoped>\n",
       "    .dataframe tbody tr th:only-of-type {\n",
       "        vertical-align: middle;\n",
       "    }\n",
       "\n",
       "    .dataframe tbody tr th {\n",
       "        vertical-align: top;\n",
       "    }\n",
       "\n",
       "    .dataframe thead th {\n",
       "        text-align: right;\n",
       "    }\n",
       "</style>\n",
       "<table border=\"1\" class=\"dataframe\">\n",
       "  <thead>\n",
       "    <tr style=\"text-align: right;\">\n",
       "      <th></th>\n",
       "      <th>income_category</th>\n",
       "      <th>income_amount</th>\n",
       "      <th>reciepent_number</th>\n",
       "    </tr>\n",
       "  </thead>\n",
       "  <tbody>\n",
       "    <tr>\n",
       "      <th>0</th>\n",
       "      <td>A</td>\n",
       "      <td>1000001 и выше</td>\n",
       "      <td>25</td>\n",
       "    </tr>\n",
       "    <tr>\n",
       "      <th>1</th>\n",
       "      <td>B</td>\n",
       "      <td>200001–1000000</td>\n",
       "      <td>5014</td>\n",
       "    </tr>\n",
       "    <tr>\n",
       "      <th>2</th>\n",
       "      <td>C</td>\n",
       "      <td>50001–200000</td>\n",
       "      <td>15921</td>\n",
       "    </tr>\n",
       "    <tr>\n",
       "      <th>3</th>\n",
       "      <td>D</td>\n",
       "      <td>30001–50000</td>\n",
       "      <td>349</td>\n",
       "    </tr>\n",
       "    <tr>\n",
       "      <th>4</th>\n",
       "      <td>E</td>\n",
       "      <td>0–30000</td>\n",
       "      <td>22</td>\n",
       "    </tr>\n",
       "  </tbody>\n",
       "</table>\n",
       "</div>"
      ],
      "text/plain": [
       "  income_category   income_amount  reciepent_number\n",
       "0               A  1000001 и выше                25\n",
       "1               B  200001–1000000              5014\n",
       "2               C    50001–200000             15921\n",
       "3               D     30001–50000               349\n",
       "4               E         0–30000                22"
      ]
     },
     "execution_count": 60,
     "metadata": {},
     "output_type": "execute_result"
    }
   ],
   "source": [
    "# Оценим количество заемщиков в зависимости от дохода и построим сводную таблицу\n",
    "\n",
    "data_grouped_by_income = data.groupby(\"total_income_category\")\n",
    "number_of_loaners_by_income = data_grouped_by_income[\"total_income_category\"].count(\n",
    ")\n",
    "\n",
    "pivot_table_return_ratio_on_income = pd.DataFrame(\n",
    "    columns=[\"income_category\", \"income_amount\", \"reciepent_number\"]\n",
    ")\n",
    "pivot_table_return_ratio_on_income[\n",
    "    \"income_category\"\n",
    "] = number_of_loaners_by_income.index.tolist()\n",
    "pivot_table_return_ratio_on_income[\"income_amount\"] = [\n",
    "    \"1000001 и выше\",\n",
    "    \"200001–1000000\",\n",
    "    \"50001–200000\",\n",
    "    \"30001–50000\",\n",
    "    \"0–30000\",\n",
    "]\n",
    "pivot_table_return_ratio_on_income[\n",
    "    \"reciepent_number\"\n",
    "] = number_of_loaners_by_income.values.tolist()\n",
    "\n",
    "pivot_table_return_ratio_on_income"
   ]
  },
  {
   "cell_type": "code",
   "execution_count": 61,
   "id": "5903fa42",
   "metadata": {},
   "outputs": [
    {
     "data": {
      "text/html": [
       "<div>\n",
       "<style scoped>\n",
       "    .dataframe tbody tr th:only-of-type {\n",
       "        vertical-align: middle;\n",
       "    }\n",
       "\n",
       "    .dataframe tbody tr th {\n",
       "        vertical-align: top;\n",
       "    }\n",
       "\n",
       "    .dataframe thead th {\n",
       "        text-align: right;\n",
       "    }\n",
       "</style>\n",
       "<table border=\"1\" class=\"dataframe\">\n",
       "  <thead>\n",
       "    <tr style=\"text-align: right;\">\n",
       "      <th></th>\n",
       "      <th>income_category</th>\n",
       "      <th>income_amount</th>\n",
       "      <th>reciepent_number</th>\n",
       "      <th>unsuccessful_debt_return_number</th>\n",
       "      <th>unsuccessful_debt_return_ratio</th>\n",
       "    </tr>\n",
       "  </thead>\n",
       "  <tbody>\n",
       "    <tr>\n",
       "      <th>0</th>\n",
       "      <td>D</td>\n",
       "      <td>30001–50000</td>\n",
       "      <td>349</td>\n",
       "      <td>21</td>\n",
       "      <td>6.017192</td>\n",
       "    </tr>\n",
       "    <tr>\n",
       "      <th>1</th>\n",
       "      <td>B</td>\n",
       "      <td>200001–1000000</td>\n",
       "      <td>5014</td>\n",
       "      <td>354</td>\n",
       "      <td>7.060231</td>\n",
       "    </tr>\n",
       "    <tr>\n",
       "      <th>2</th>\n",
       "      <td>A</td>\n",
       "      <td>1000001 и выше</td>\n",
       "      <td>25</td>\n",
       "      <td>2</td>\n",
       "      <td>8.000000</td>\n",
       "    </tr>\n",
       "    <tr>\n",
       "      <th>3</th>\n",
       "      <td>C</td>\n",
       "      <td>50001–200000</td>\n",
       "      <td>15921</td>\n",
       "      <td>1353</td>\n",
       "      <td>8.498210</td>\n",
       "    </tr>\n",
       "    <tr>\n",
       "      <th>4</th>\n",
       "      <td>E</td>\n",
       "      <td>0–30000</td>\n",
       "      <td>22</td>\n",
       "      <td>2</td>\n",
       "      <td>9.090909</td>\n",
       "    </tr>\n",
       "  </tbody>\n",
       "</table>\n",
       "</div>"
      ],
      "text/plain": [
       "  income_category   income_amount  reciepent_number  \\\n",
       "0               D     30001–50000               349   \n",
       "1               B  200001–1000000              5014   \n",
       "2               A  1000001 и выше                25   \n",
       "3               C    50001–200000             15921   \n",
       "4               E         0–30000                22   \n",
       "\n",
       "   unsuccessful_debt_return_number  unsuccessful_debt_return_ratio  \n",
       "0                               21                        6.017192  \n",
       "1                              354                        7.060231  \n",
       "2                                2                        8.000000  \n",
       "3                             1353                        8.498210  \n",
       "4                                2                        9.090909  "
      ]
     },
     "execution_count": 61,
     "metadata": {},
     "output_type": "execute_result"
    }
   ],
   "source": [
    "# Найдем средний процент возрвата кредита всрок в зависимости от дохода и количество людей не вернувших кредит, добавим их в сводную таблицу\n",
    "\n",
    "unsuccessful_debt_return_ratio_depend_income = (\n",
    "    data_grouped_by_income[\"debt\"].sum(\n",
    "    ) / data_grouped_by_income[\"debt\"].count()\n",
    ") * 100\n",
    "\n",
    "pivot_table_return_ratio_on_income[\"unsuccessful_debt_return_number\"] = (\n",
    "    data_grouped_by_income[\"debt\"].sum().tolist()\n",
    ")\n",
    "pivot_table_return_ratio_on_income[\n",
    "    \"unsuccessful_debt_return_ratio\"\n",
    "] = unsuccessful_debt_return_ratio_depend_income.tolist()\n",
    "pivot_table_return_ratio_on_income = pivot_table_return_ratio_on_income.sort_values(\n",
    "    by=\"unsuccessful_debt_return_ratio\"\n",
    ")\n",
    "pivot_table_return_ratio_on_income.reset_index(drop=True, inplace=True)\n",
    "\n",
    "pivot_table_return_ratio_on_income"
   ]
  },
  {
   "cell_type": "code",
   "execution_count": 62,
   "id": "88451e0c",
   "metadata": {},
   "outputs": [
    {
     "data": {
      "text/html": [
       "<div>\n",
       "<style scoped>\n",
       "    .dataframe tbody tr th:only-of-type {\n",
       "        vertical-align: middle;\n",
       "    }\n",
       "\n",
       "    .dataframe tbody tr th {\n",
       "        vertical-align: top;\n",
       "    }\n",
       "\n",
       "    .dataframe thead th {\n",
       "        text-align: right;\n",
       "    }\n",
       "</style>\n",
       "<table border=\"1\" class=\"dataframe\">\n",
       "  <thead>\n",
       "    <tr style=\"text-align: right;\">\n",
       "      <th></th>\n",
       "      <th>income_category</th>\n",
       "      <th>income_amount</th>\n",
       "      <th>reciepent_number</th>\n",
       "      <th>unsuccessful_debt_return_number</th>\n",
       "      <th>unsuccessful_debt_return_ratio</th>\n",
       "    </tr>\n",
       "  </thead>\n",
       "  <tbody>\n",
       "    <tr>\n",
       "      <th>0</th>\n",
       "      <td>D</td>\n",
       "      <td>30001–50000</td>\n",
       "      <td>349</td>\n",
       "      <td>21</td>\n",
       "      <td>6.017192</td>\n",
       "    </tr>\n",
       "    <tr>\n",
       "      <th>1</th>\n",
       "      <td>B</td>\n",
       "      <td>200001–1000000</td>\n",
       "      <td>5014</td>\n",
       "      <td>354</td>\n",
       "      <td>7.060231</td>\n",
       "    </tr>\n",
       "    <tr>\n",
       "      <th>3</th>\n",
       "      <td>C</td>\n",
       "      <td>50001–200000</td>\n",
       "      <td>15921</td>\n",
       "      <td>1353</td>\n",
       "      <td>8.498210</td>\n",
       "    </tr>\n",
       "  </tbody>\n",
       "</table>\n",
       "</div>"
      ],
      "text/plain": [
       "  income_category   income_amount  reciepent_number  \\\n",
       "0               D     30001–50000               349   \n",
       "1               B  200001–1000000              5014   \n",
       "3               C    50001–200000             15921   \n",
       "\n",
       "   unsuccessful_debt_return_number  unsuccessful_debt_return_ratio  \n",
       "0                               21                        6.017192  \n",
       "1                              354                        7.060231  \n",
       "3                             1353                        8.498210  "
      ]
     },
     "execution_count": 62,
     "metadata": {},
     "output_type": "execute_result"
    }
   ],
   "source": [
    "# Данных по категориям A, E недостаточно, чтобы сделать выводы, поэтому удалим их из сводной таблицы\n",
    "\n",
    "pivot_table_return_ratio_on_income = pivot_table_return_ratio_on_income.loc[\n",
    "    (pivot_table_return_ratio_on_income[\"income_category\"] != \"A\")\n",
    "    & (pivot_table_return_ratio_on_income[\"income_category\"] != \"E\")\n",
    "]\n",
    "\n",
    "pivot_table_return_ratio_on_income"
   ]
  },
  {
   "cell_type": "markdown",
   "id": "eb5b5481",
   "metadata": {
    "deletable": false,
    "id": "e8593def"
   },
   "source": [
    "**Вывод:**\n",
    "Данных по категории А и Е слишком мало для точных выводов. Наиболее успешно кредиты возвращают люди с доходом 30001–50000, что может быть связано с маленькими сумамаи кредита (случаев невозврата 6%)\n",
    "\n",
    "Upd:\n",
    "\n",
    "Для категорий B и C можем заметить, что с ростом дохода уменьшается количество возвратов всрок (Для D 91.5%, а для B 93%)\n"
   ]
  },
  {
   "cell_type": "markdown",
   "id": "70b07552",
   "metadata": {
    "deletable": false,
    "editable": false,
    "id": "99ecbd1f"
   },
   "source": [
    "#### 3.4 Как разные цели кредита влияют на его возврат в срок?\n"
   ]
  },
  {
   "cell_type": "code",
   "execution_count": 63,
   "id": "dce46fec",
   "metadata": {
    "deletable": false,
    "id": "2b687290"
   },
   "outputs": [
    {
     "data": {
      "text/html": [
       "<div>\n",
       "<style scoped>\n",
       "    .dataframe tbody tr th:only-of-type {\n",
       "        vertical-align: middle;\n",
       "    }\n",
       "\n",
       "    .dataframe tbody tr th {\n",
       "        vertical-align: top;\n",
       "    }\n",
       "\n",
       "    .dataframe thead th {\n",
       "        text-align: right;\n",
       "    }\n",
       "</style>\n",
       "<table border=\"1\" class=\"dataframe\">\n",
       "  <thead>\n",
       "    <tr style=\"text-align: right;\">\n",
       "      <th></th>\n",
       "      <th>purpose_category</th>\n",
       "      <th>reciepent_number</th>\n",
       "    </tr>\n",
       "  </thead>\n",
       "  <tbody>\n",
       "    <tr>\n",
       "      <th>0</th>\n",
       "      <td>операции с автомобилем</td>\n",
       "      <td>4279</td>\n",
       "    </tr>\n",
       "    <tr>\n",
       "      <th>1</th>\n",
       "      <td>операции с недвижимостью</td>\n",
       "      <td>10751</td>\n",
       "    </tr>\n",
       "    <tr>\n",
       "      <th>2</th>\n",
       "      <td>получение образования</td>\n",
       "      <td>3988</td>\n",
       "    </tr>\n",
       "    <tr>\n",
       "      <th>3</th>\n",
       "      <td>проведение свадьбы</td>\n",
       "      <td>2313</td>\n",
       "    </tr>\n",
       "  </tbody>\n",
       "</table>\n",
       "</div>"
      ],
      "text/plain": [
       "           purpose_category  reciepent_number\n",
       "0    операции с автомобилем              4279\n",
       "1  операции с недвижимостью             10751\n",
       "2     получение образования              3988\n",
       "3        проведение свадьбы              2313"
      ]
     },
     "execution_count": 63,
     "metadata": {},
     "output_type": "execute_result"
    }
   ],
   "source": [
    "# Оценим количество заемщиков в зависимости от цели кредита и построим сводную таблицу\n",
    "\n",
    "data_grouped_by_purpose_category = data.groupby(\"purpose_category\")\n",
    "data_grouped_by_purpose_category[\"purpose_category\"].count()\n",
    "number_of_loaners_by_purpose_category = data_grouped_by_purpose_category[\n",
    "    \"purpose_category\"].count()\n",
    "\n",
    "pivot_table_return_ratio_on_purpose_category = pd.DataFrame(\n",
    "    columns=[\"purpose_category\", \"reciepent_number\"])\n",
    "pivot_table_return_ratio_on_purpose_category[\n",
    "    \"purpose_category\"] = number_of_loaners_by_purpose_category.index.tolist()\n",
    "\n",
    "pivot_table_return_ratio_on_purpose_category[\n",
    "    \"reciepent_number\"] = number_of_loaners_by_purpose_category.values.tolist(\n",
    ")\n",
    "\n",
    "pivot_table_return_ratio_on_purpose_category"
   ]
  },
  {
   "cell_type": "code",
   "execution_count": 64,
   "id": "38e342da",
   "metadata": {},
   "outputs": [
    {
     "data": {
      "text/html": [
       "<div>\n",
       "<style scoped>\n",
       "    .dataframe tbody tr th:only-of-type {\n",
       "        vertical-align: middle;\n",
       "    }\n",
       "\n",
       "    .dataframe tbody tr th {\n",
       "        vertical-align: top;\n",
       "    }\n",
       "\n",
       "    .dataframe thead th {\n",
       "        text-align: right;\n",
       "    }\n",
       "</style>\n",
       "<table border=\"1\" class=\"dataframe\">\n",
       "  <thead>\n",
       "    <tr style=\"text-align: right;\">\n",
       "      <th></th>\n",
       "      <th>purpose_category</th>\n",
       "      <th>reciepent_number</th>\n",
       "      <th>unsuccessful_debt_return_number</th>\n",
       "      <th>unsuccessful_debt_return_ratio</th>\n",
       "    </tr>\n",
       "  </thead>\n",
       "  <tbody>\n",
       "    <tr>\n",
       "      <th>0</th>\n",
       "      <td>операции с недвижимостью</td>\n",
       "      <td>10751</td>\n",
       "      <td>780</td>\n",
       "      <td>7.255139</td>\n",
       "    </tr>\n",
       "    <tr>\n",
       "      <th>1</th>\n",
       "      <td>проведение свадьбы</td>\n",
       "      <td>2313</td>\n",
       "      <td>183</td>\n",
       "      <td>7.911803</td>\n",
       "    </tr>\n",
       "    <tr>\n",
       "      <th>2</th>\n",
       "      <td>получение образования</td>\n",
       "      <td>3988</td>\n",
       "      <td>369</td>\n",
       "      <td>9.252758</td>\n",
       "    </tr>\n",
       "    <tr>\n",
       "      <th>3</th>\n",
       "      <td>операции с автомобилем</td>\n",
       "      <td>4279</td>\n",
       "      <td>400</td>\n",
       "      <td>9.347978</td>\n",
       "    </tr>\n",
       "  </tbody>\n",
       "</table>\n",
       "</div>"
      ],
      "text/plain": [
       "           purpose_category  reciepent_number  \\\n",
       "0  операции с недвижимостью             10751   \n",
       "1        проведение свадьбы              2313   \n",
       "2     получение образования              3988   \n",
       "3    операции с автомобилем              4279   \n",
       "\n",
       "   unsuccessful_debt_return_number  unsuccessful_debt_return_ratio  \n",
       "0                              780                        7.255139  \n",
       "1                              183                        7.911803  \n",
       "2                              369                        9.252758  \n",
       "3                              400                        9.347978  "
      ]
     },
     "execution_count": 64,
     "metadata": {},
     "output_type": "execute_result"
    }
   ],
   "source": [
    "# Найдем средний процент не возврата кредита всрок в зависимости от цели кредита и количество людей не вернувших кредит, добавим их в сводную таблицу\n",
    "\n",
    "\n",
    "unsuccessful_debt_return_ratio_depend_purpose_category = (\n",
    "    data_grouped_by_purpose_category[\"debt\"].sum()\n",
    "    / data_grouped_by_purpose_category[\"debt\"].count()\n",
    "    * 100\n",
    ")\n",
    "\n",
    "pivot_table_return_ratio_on_purpose_category[\"unsuccessful_debt_return_number\"] = (\n",
    "    data_grouped_by_purpose_category[\"debt\"].sum().tolist()\n",
    ")\n",
    "pivot_table_return_ratio_on_purpose_category[\n",
    "    \"unsuccessful_debt_return_ratio\"\n",
    "] = unsuccessful_debt_return_ratio_depend_purpose_category.tolist()\n",
    "pivot_table_return_ratio_on_purpose_category = (\n",
    "    pivot_table_return_ratio_on_purpose_category.sort_values(\n",
    "        by=\"unsuccessful_debt_return_ratio\"\n",
    "    )\n",
    ")\n",
    "pivot_table_return_ratio_on_purpose_category.reset_index(\n",
    "    drop=True, inplace=True)\n",
    "\n",
    "pivot_table_return_ratio_on_purpose_category"
   ]
  },
  {
   "cell_type": "markdown",
   "id": "04bb315e",
   "metadata": {
    "deletable": false,
    "id": "b4bb2ce6"
   },
   "source": [
    "**Вывод:**\n",
    "Кредиты, взятые на недвижимость, возвращают чаще всего, на 0.7 % реже возвращают кредиты на свадьбу. Кредиты на автомобиль и образование возвращают на 2% реже чем кредиты на недвижимость.\n"
   ]
  },
  {
   "cell_type": "markdown",
   "id": "54679610",
   "metadata": {
    "deletable": false,
    "editable": false,
    "id": "09c3ac4c"
   },
   "source": [
    "#### 3.5 Приведите возможные причины появления пропусков в исходных данных.\n"
   ]
  },
  {
   "cell_type": "markdown",
   "id": "fc987a2d",
   "metadata": {
    "deletable": false,
    "id": "9da2ceda"
   },
   "source": [
    "_Ответ:_ Заметим, что пропуски данных о доходе и месте работы появляются вместе\n",
    "\n",
    "Это может быть по тому, что:\n",
    "\n",
    "1. Люди могут не хотеть раскрывать свое место работы и свой доход\n",
    "2. Люди не могут подвердить свое место работы и доход\n",
    "3. Произошла техническая ошибка\n"
   ]
  },
  {
   "cell_type": "markdown",
   "id": "d348cebe",
   "metadata": {
    "deletable": false,
    "editable": false,
    "id": "7b0487d6"
   },
   "source": [
    "#### 3.6 Объясните, почему заполнить пропуски медианным значением — лучшее решение для количественных переменных.\n"
   ]
  },
  {
   "cell_type": "markdown",
   "id": "2413113d",
   "metadata": {
    "deletable": false,
    "id": "7ecf2b8e"
   },
   "source": [
    "_Ответ:_\n",
    "Потому что очень часто в количественных переменных встречаются аномально большие или маленькие значения. Например, у 1% самых богатых людей на планете средств больше чем у остального населения планеты, если взять среднее состояние одного человека от этих данных мы получим неверные значения\n"
   ]
  },
  {
   "cell_type": "markdown",
   "id": "84b39b7a",
   "metadata": {
    "deletable": false,
    "editable": false,
    "id": "6db5255a"
   },
   "source": [
    "## Шаг 4: общий вывод.\n"
   ]
  },
  {
   "cell_type": "markdown",
   "id": "f0939aa0",
   "metadata": {
    "deletable": false,
    "id": "bad65432"
   },
   "source": [
    "### Данные для анализа и их предобработка\n",
    "\n",
    "Анализ был проведен на данных о 21525 заемщиков кредитов. Был удален 71 дупликат.\n",
    "\n",
    "##### Были решены следующие проблемы во входных данных:\n",
    "\n",
    "1. Отрицательные значения в столбце days_employed сделаны положительными.\n",
    "2. Для каждого из типов дохода пропуски в столбцах total_income и days_emloyed были заполнены медианными значениями этой группы\n",
    "3. Удалены строки с аномальным количеством детей (20, -1)\n",
    "\n",
    "##### Изменения в данных\n",
    "\n",
    "1. Добавлен стоблец с категорией уровня дохода total_income_category и столбец с категорией цели кредита purpose_category\n",
    "\n",
    "##### Рекомендации по сбору данных\n",
    "\n",
    "1. Наладить автоматизированную систему так, чтобы в данных не возникало отрицательных чисел\n",
    "2. Добавить в опрос пользователя обязательный пункт \"Цель кредита\"\n",
    "3. Записывать все качественный описания пользователя в нижнем регистре (образование не Высшее, а высшее)\n",
    "\n",
    "##### 3.5 Возможные причины появления пропусков в исходных данных.\n",
    "\n",
    "Пропуски есть лишь в столбцах days_employed и total_income\n",
    "\n",
    "Это может быть по тому, что:\n",
    "\n",
    "1. Люди могут не хотеть раскрывать свое место работы и свой доход\n",
    "2. Люди не могут подвердить свое место работы и доход\n",
    "3. Произошла техническая ошибка\n",
    "\n",
    "### Итоги анализа\n",
    "\n",
    "##### Есть ли зависимость между количеством детей и возвратом кредита в срок?\n",
    "\n",
    "Сделать вывод о том, как часто кредит всрок возвращают люди с 4 и 5-ю детьми невозможно из-за недостатка данных.\n",
    "Заемщики без детей в среднем на 1-2 процента чаще возвращают кредит всрок, что может быть связано с отсутствием расходов на детей.\n",
    "Люди с 1 ребенком или 2 детьми не возвращают кредит практически одинаково часто (9.3% случаев). Лица с 3-мя детьми детьми не возвращают кредит чуть чаще (8.5% случаев).\n",
    "\n",
    "##### 3.2 Есть ли зависимость между семейным положением и возвратом кредита в срок?\n",
    "\n",
    "Люди в статусе вдовца / вдовы наиболее успешно возвращают кредиты, что может быть связано с полученным наследством или с тем, что они брали кредит на похороны. Часто, такие кредиты компесируются родственниками. _(невозврат в 6.6% случаев)_\n",
    "Люди в в браке _(невозврат в 7.6% случаев)_ и в разводе _(невозврат в 7% случаев)_ возвращают кредиты на 2% лучше чем люди не замужем _(невозврат в 9.7% случаев)_ или в гражданском браке _(невозврат в 9.5% случаев)_, и на 1% хуже чем люди потерявшие супругу / супруга _(невозврат в 6.6% случаев)_.\n",
    "\n",
    "##### 3.3 Есть ли зависимость между уровнем дохода и возвратом кредита в срок?\n",
    "\n",
    "Данных по категории А и Е слишком мало для точных выводов. Наиболее успешно кредиты возвращают люди с доходом 30001–50000, что может быть связано с маленькими сумамаи кредита _(случаев невозврата 6%)_\n",
    "Для категорий B и C можем заметить, что с ростом дохода уменьшается количество возвратов всрок _(Для D 91.5%, а для B 93%)_\n",
    "\n",
    "##### 3.4 Как разные цели кредита влияют на его возврат в срок?\n",
    "\n",
    "Кредиты, взятые на недвижимость, возвращают чаще всего _(невозврат в 7.2% случаях)_, на 0.7 % реже возвращают кредиты на свадьбу. Кредиты на автомобиль и образование возвращают на 2% реже чем кредиты на недвижимость _(невозврат в 9.3% случаях)_.\n"
   ]
  }
 ],
 "metadata": {
  "colab": {
   "name": "dpp_template_part2.ipynb",
   "provenance": []
  },
  "kernelspec": {
   "display_name": "Python 3 (ipykernel)",
   "language": "python",
   "name": "python3"
  },
  "toc": {
   "base_numbering": 1,
   "nav_menu": {},
   "number_sections": true,
   "sideBar": true,
   "skip_h1_title": true,
   "title_cell": "Table of Contents",
   "title_sidebar": "Contents",
   "toc_cell": false,
   "toc_position": {},
   "toc_section_display": true,
   "toc_window_display": false
  }
 },
 "nbformat": 4,
 "nbformat_minor": 5
}
